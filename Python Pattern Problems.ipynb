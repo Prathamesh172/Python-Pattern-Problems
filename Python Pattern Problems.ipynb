{
 "cells": [
  {
   "cell_type": "code",
   "execution_count": 5,
   "id": "70193fba",
   "metadata": {},
   "outputs": [
    {
     "name": "stdout",
     "output_type": "stream",
     "text": [
      "*****  *****   ***   *****  *   *   ***   *   *  ****   ***   *   *\n",
      "*   *  *   *  *   *    *    *   *  *   *  ** **  *     *      *   *\n",
      "*   *  *   *  *   *    *    *   *  *   *  * * *  *     *      *   *\n",
      "*****  *****  *****    *    *****  *****  *   *  ****   ***   *****\n",
      "*      **     *   *    *    *   *  *   *  *   *  *         *  *   *\n",
      "*      * *    *   *    *    *   *  *   *  *   *  *         *  *   *\n",
      "*      *  *   *   *    *    *   *  *   *  *   *  ****   ***   *   *\n",
      "                                                                   \n",
      "                                                                   \n",
      "                                                                   \n"
     ]
    }
   ],
   "source": [
    "for row in range(10):\n",
    "    for col in range(67):\n",
    "        if (row == 0) and (col in {0,1,2,3,4,7,8,9,10,11,15,16,17,21,22,23,24,25,28,32,36,37,38,42,46,49,50,51,52,56,57,58,62,66}):\n",
    "            print('*',end='')\n",
    "        elif (row == 1) and (col in {0,4,7,11,14,18,23,28,32,35,39,42,43,45,46,49,55,62,66}):\n",
    "            print('*',end='')\n",
    "        elif (row == 2) and (col in {0,4,7,11,14,18,23,28,32,35,39,42,44,46,49,55,62,66}):\n",
    "            print('*',end='')\n",
    "        elif (row == 3) and (col in {0,1,2,3,4,7,8,9,10,11,14,15,16,17,18,23,28,29,30,31,32,35,36,37,38,39,42,46,49,50,51,52,56,57,58,62,63,64,65,66}):\n",
    "            print('*',end='')\n",
    "        elif (row == 4) and (col in {0,7,8,14,18,23,28,32,35,39,42,46,49,59,62,66}):\n",
    "            print('*',end='')\n",
    "        elif (row == 5) and (col in {0,7,9,14,18,23,28,32,35,39,42,46,49,59,62,66}):\n",
    "            print('*',end='')\n",
    "        elif (row == 6) and (col in {0,7,10,14,18,23,28,32,35,39,42,46,49,50,51,52,56,57,58,62,66}):\n",
    "            print('*',end='')\n",
    "        else:\n",
    "            print(' ',end='')\n",
    "    print()"
   ]
  },
  {
   "cell_type": "code",
   "execution_count": 9,
   "id": "8e08f9ec",
   "metadata": {},
   "outputs": [
    {
     "name": "stdout",
     "output_type": "stream",
     "text": [
      "Enter the number of rows for the diamond: 5\n",
      "    *\n",
      "   ***\n",
      "  *****\n",
      " *******\n",
      "*********\n",
      " *******\n",
      "  *****\n",
      "   ***\n",
      "    *\n"
     ]
    }
   ],
   "source": [
    "# Create a program to print diamond pattern using while loop\n",
    "\n",
    "rows = int(input(\"Enter the number of rows for the diamond: \"))\n",
    "row = 1\n",
    "while row <= rows:\n",
    "    print(\" \" * (rows - row) + \"*\" * (2 * row - 1))\n",
    "    row += 1\n",
    "row = rows - 1\n",
    "while row >= 1:\n",
    "    print(\" \" * (rows - row) + \"*\" * (2 * row - 1))\n",
    "    row -= 1"
   ]
  },
  {
   "cell_type": "code",
   "execution_count": 12,
   "id": "62e1522a",
   "metadata": {},
   "outputs": [
    {
     "name": "stdout",
     "output_type": "stream",
     "text": [
      "* * * * * \n",
      "*       * \n",
      "*   P   * \n",
      "*       * \n",
      "* * * * * \n"
     ]
    }
   ],
   "source": [
    "# Write a for loop to print a pattern of stars in the shape of a square and write your initial latter in square.\n",
    "\n",
    "for row in range(5):\n",
    "    for col in range(5):\n",
    "        if row == 0 and col in range(5):\n",
    "            print('*',end=' ')\n",
    "        elif row == 1 and col in {0,4}:\n",
    "            print('*',end=' ')\n",
    "        elif row == 2 and col in {0,4}:\n",
    "            print('*',end=' ')\n",
    "        elif row == 3 and col in {0,4}:\n",
    "            print('*',end=' ')\n",
    "        elif row == 4 and col in range(5):\n",
    "            print('*',end=' ')\n",
    "        elif row == 2 and col in {2}:\n",
    "            print('P',end=' ')\n",
    "        else:\n",
    "            print(' ',end=' ')\n",
    "    print()"
   ]
  },
  {
   "cell_type": "code",
   "execution_count": 10,
   "id": "7f001ce7",
   "metadata": {},
   "outputs": [
    {
     "name": "stdout",
     "output_type": "stream",
     "text": [
      "Enter the number of rows : 5\n",
      "* \n",
      "\n",
      "* * \n",
      "\n",
      "* * * \n",
      "\n",
      "* * * * \n",
      "\n",
      "* * * * * \n",
      "\n"
     ]
    }
   ],
   "source": [
    "n = int(input('Enter the number of rows : '))\n",
    "for i in range(n):\n",
    "    for j in range(i+1):\n",
    "        print('*',end=' ')\n",
    "    print('\\n')"
   ]
  },
  {
   "cell_type": "code",
   "execution_count": 6,
   "id": "62c1389e",
   "metadata": {},
   "outputs": [
    {
     "name": "stdout",
     "output_type": "stream",
     "text": [
      "        *         \n",
      "      * * *       \n",
      "    * * * * *     \n",
      "  * * * * * * *   \n",
      "* * * * * * * * * \n",
      "  * * * * * * *   \n",
      "    * * * * *     \n",
      "      * * *       \n",
      "        *         \n"
     ]
    }
   ],
   "source": [
    "for row in range(9):\n",
    "    for col in range(9):\n",
    "        if row == 0 and col == 4:\n",
    "            print('*',end=' ')\n",
    "        elif row == 1 and col in range(3,6):\n",
    "            print('*',end=' ')\n",
    "        elif row == 2 and col in range(2,7):\n",
    "            print('*',end=' ')\n",
    "        elif row == 3 and col in range(1,8):\n",
    "            print('*',end=' ')\n",
    "        elif row == 4 and col in range(9):\n",
    "            print('*',end=' ')\n",
    "        elif row == 6 and col in range(2,7):\n",
    "            print('*',end=' ')\n",
    "        elif row == 5 and col in range(1,8):\n",
    "            print('*',end=' ')\n",
    "        elif row == 7 and col in range(3,6):\n",
    "            print('*',end=' ')\n",
    "        elif row == 8 and col == 4:\n",
    "            print('*',end=' ')\n",
    "        else:\n",
    "            print(' ',end=' ')\n",
    "    print()"
   ]
  },
  {
   "cell_type": "code",
   "execution_count": 11,
   "id": "cf9ed5b9",
   "metadata": {},
   "outputs": [
    {
     "name": "stdout",
     "output_type": "stream",
     "text": [
      "1 \n",
      "3 3 \n",
      "5 5 5 \n",
      "7 7 7 7 \n",
      "9 9 9 9 9 \n"
     ]
    }
   ],
   "source": [
    "row = 5\n",
    "i = 1\n",
    "while i <= row:\n",
    "    j = 1\n",
    "    while j <= i:\n",
    "        print((i*2-1), end=' ')\n",
    "        j = j+1\n",
    "    i = i+1\n",
    "    print()"
   ]
  },
  {
   "cell_type": "code",
   "execution_count": 7,
   "id": "0fcb309b",
   "metadata": {},
   "outputs": [
    {
     "name": "stdout",
     "output_type": "stream",
     "text": [
      "Enter the number : 5\n",
      "1 2 3 4 5 \n",
      "2 2 3 4 5 \n",
      "3 3 3 4 5 \n",
      "4 4 4 4 5 \n",
      "5 5 5 5 5 \n"
     ]
    }
   ],
   "source": [
    "n = int(input('Enter the number : '))\n",
    "for row in range(1,n+1):\n",
    "    for col in range(1,n+1):\n",
    "        if row >= col:\n",
    "            print(row,end=' ')\n",
    "        else:\n",
    "            print(col,end=\" \")\n",
    "    print()"
   ]
  },
  {
   "cell_type": "code",
   "execution_count": 8,
   "id": "3023c35a",
   "metadata": {},
   "outputs": [
    {
     "name": "stdout",
     "output_type": "stream",
     "text": [
      "1 \n",
      "3 3 \n",
      "5 5 5 \n",
      "7 7 7 7 \n",
      "9 9 9 9 9 \n"
     ]
    }
   ],
   "source": [
    "row = 5\n",
    "i = 1\n",
    "while i <= row:\n",
    "    j = 1\n",
    "    while j <= i:\n",
    "        print((i*2-1), end=' ')\n",
    "        j = j+1\n",
    "    i = i+1\n",
    "    print()"
   ]
  },
  {
   "cell_type": "code",
   "execution_count": null,
   "id": "2fe0b9a7",
   "metadata": {},
   "outputs": [],
   "source": []
  }
 ],
 "metadata": {
  "kernelspec": {
   "display_name": "Python 3 (ipykernel)",
   "language": "python",
   "name": "python3"
  },
  "language_info": {
   "codemirror_mode": {
    "name": "ipython",
    "version": 3
   },
   "file_extension": ".py",
   "mimetype": "text/x-python",
   "name": "python",
   "nbconvert_exporter": "python",
   "pygments_lexer": "ipython3",
   "version": "3.10.9"
  }
 },
 "nbformat": 4,
 "nbformat_minor": 5
}
